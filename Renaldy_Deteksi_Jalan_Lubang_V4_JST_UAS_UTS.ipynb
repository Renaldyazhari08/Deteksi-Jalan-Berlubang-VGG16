{
  "cells": [
    {
      "cell_type": "code",
      "execution_count": null,
      "metadata": {
        "id": "1JEXSMcmZ1gZ"
      },
      "outputs": [],
      "source": [
        "import os\n",
        "import zipfile\n",
        "import random\n",
        "import shutil\n",
        "import tensorflow as tf\n",
        "from tensorflow.keras.preprocessing.image import ImageDataGenerator\n",
        "from shutil import copyfile\n",
        "import matplotlib.pyplot as plt\n",
        "from google.colab import files\n",
        "from keras.preprocessing import image\n",
        "from tensorflow.keras.optimizers import Adam\n",
        "from tensorflow.keras.preprocessing import image\n",
        "from tensorflow.keras.preprocessing.image import img_to_array\n",
        "from tensorflow.keras.applications import ResNet50, VGG16\n",
        "from tensorflow.keras.models import Sequential\n",
        "from tensorflow.keras.layers import Dense, Flatten\n",
        "from tensorflow.keras.callbacks import EarlyStopping, Callback, ModelCheckpoint\n",
        "import numpy as np\n",
        "from keras.callbacks import Callback\n",
        "from PIL import Image\n",
        "import gdown\n",
        "import json"
      ]
    },
    {
      "cell_type": "code",
      "execution_count": null,
      "metadata": {
        "colab": {
          "base_uri": "https://localhost:8080/"
        },
        "id": "KrYwPZz8vNKF",
        "outputId": "86aecfae-1347-4010-b36d-96780eee6f9f"
      },
      "outputs": [
        {
          "output_type": "stream",
          "name": "stdout",
          "text": [
            "Mounted at /content/drive\n"
          ]
        }
      ],
      "source": [
        "from google.colab import drive, files\n",
        "drive.mount('/content/drive')\n"
      ]
    },
    {
      "cell_type": "code",
      "execution_count": null,
      "metadata": {
        "id": "XnFMSBGU-Yy5"
      },
      "outputs": [],
      "source": [
        "path_zip = '/content/drive/MyDrive/Kumpulan Dataset/Dataset Jalan Berlubang/Jalan_Berlubang_Renaldy.zip'\n",
        "zip_ref   = zipfile.ZipFile(path_zip, 'r')\n",
        "zip_ref.extractall()\n",
        "zip_ref.close()\n"
      ]
    },
    {
      "cell_type": "code",
      "execution_count": null,
      "metadata": {
        "colab": {
          "base_uri": "https://localhost:8080/"
        },
        "id": "g9Sbhl9GLtzE",
        "outputId": "97557ffa-06ac-4c6c-ac0f-aa82b614f043"
      },
      "outputs": [
        {
          "output_type": "stream",
          "name": "stdout",
          "text": [
            "Converted penyebab-keausan-jalan-aspal-di-jalan-kota.webp to /content/Jalan_Berlubang/trainval/normal/penyebab-keausan-jalan-aspal-di-jalan-kota.jpg\n",
            "Removed penyebab-keausan-jalan-aspal-di-jalan-kota.webp\n",
            "Converted tol-rembang.webp to /content/Jalan_Berlubang/trainval/normal/tol-rembang.jpg\n",
            "Removed tol-rembang.webp\n",
            "Converted IMG-20200426-WA0132-scaled.jpg.webp to /content/Jalan_Berlubang/trainval/normal/IMG-20200426-WA0132-scaled.jpg.jpg\n",
            "Removed IMG-20200426-WA0132-scaled.jpg.webp\n",
            "Converted 1625300431779.webp to /content/Jalan_Berlubang/trainval/normal/1625300431779.jpg\n",
            "Removed 1625300431779.webp\n",
            "Converted Suhaili-Ahli-Aspal.webp to /content/Jalan_Berlubang/trainval/normal/Suhaili-Ahli-Aspal.jpg\n",
            "Removed Suhaili-Ahli-Aspal.webp\n",
            "Converted terowongan-nagreg.webp to /content/Jalan_Berlubang/trainval/normal/terowongan-nagreg.jpg\n",
            "Removed terowongan-nagreg.webp\n",
            "Converted 060152900_1679581025-20230323_184609.webp to /content/Jalan_Berlubang/trainval/normal/060152900_1679581025-20230323_184609.jpg\n",
            "Removed 060152900_1679581025-20230323_184609.webp\n",
            "Converted pengaspalan-Jalan.webp to /content/Jalan_Berlubang/trainval/normal/pengaspalan-Jalan.jpg\n",
            "Removed pengaspalan-Jalan.webp\n",
            "Converted image_20231013-17141-ukzio5.webp to /content/Jalan_Berlubang/trainval/normal/image_20231013-17141-ukzio5.jpg\n",
            "Removed image_20231013-17141-ukzio5.webp\n",
            "Converted 3323116522.webp to /content/Jalan_Berlubang/trainval/normal/3323116522.jpg\n",
            "Removed 3323116522.webp\n",
            "Converted 1664355808499_30_Jalan.webp to /content/Jalan_Berlubang/trainval/normal/1664355808499_30_Jalan.jpg\n",
            "Removed 1664355808499_30_Jalan.webp\n",
            "Converted 052783100_1563426242-asphalt-daylight-empty-1259349.webp to /content/Jalan_Berlubang/trainval/normal/052783100_1563426242-asphalt-daylight-empty-1259349.jpg\n",
            "Removed 052783100_1563426242-asphalt-daylight-empty-1259349.webp\n",
            "Converted jalan-lembang.webp to /content/Jalan_Berlubang/trainval/normal/jalan-lembang.jpg\n",
            "Removed jalan-lembang.webp\n",
            "Converted mengenal_konstruksi_lapisan_aspal-05d3d-3144_400-t598_25.webp to /content/Jalan_Berlubang/trainval/normal/mengenal_konstruksi_lapisan_aspal-05d3d-3144_400-t598_25.jpg\n",
            "Removed mengenal_konstruksi_lapisan_aspal-05d3d-3144_400-t598_25.webp\n",
            "Converted XJ0NmqU7-jalan-dago.webp to /content/Jalan_Berlubang/trainval/normal/XJ0NmqU7-jalan-dago.jpg\n",
            "Removed XJ0NmqU7-jalan-dago.webp\n",
            "Converted image.webp to /content/Jalan_Berlubang/trainval/normal/image.jpg\n",
            "Removed image.webp\n",
            "Converted jalan-cipaganti.webp to /content/Jalan_Berlubang/trainval/normal/jalan-cipaganti.jpg\n",
            "Removed jalan-cipaganti.webp\n",
            "Converted Jawa-Tengah-Panen-Jalan-Tol-Tol-Sayung-Demak-Resmi-di-Operasikan-oleh-Presiden-Joko-Widodo-4241656887.webp to /content/Jalan_Berlubang/trainval/normal/Jawa-Tengah-Panen-Jalan-Tol-Tol-Sayung-Demak-Resmi-di-Operasikan-oleh-Presiden-Joko-Widodo-4241656887.jpg\n",
            "Removed Jawa-Tengah-Panen-Jalan-Tol-Tol-Sayung-Demak-Resmi-di-Operasikan-oleh-Presiden-Joko-Widodo-4241656887.webp\n",
            "Converted Screenshot_20231024-073314_Instagram-2165927607.webp to /content/Jalan_Berlubang/trainval/normal/Screenshot_20231024-073314_Instagram-2165927607.jpg\n",
            "Removed Screenshot_20231024-073314_Instagram-2165927607.webp\n",
            "Converted Jakarta-lengang-968460289.webp to /content/Jalan_Berlubang/trainval/normal/Jakarta-lengang-968460289.jpg\n",
            "Removed Jakarta-lengang-968460289.webp\n",
            "Converted jalan-braga.webp to /content/Jalan_Berlubang/trainval/normal/jalan-braga.jpg\n",
            "Removed jalan-braga.webp\n",
            "Converted WhatsApp-Image-2023-12-10-at-14.28.12-1024x576.webp to /content/Jalan_Berlubang/trainval/normal/WhatsApp-Image-2023-12-10-at-14.28.12-1024x576.jpg\n",
            "Removed WhatsApp-Image-2023-12-10-at-14.28.12-1024x576.webp\n",
            "Converted jalan-asia-afrika-1.webp to /content/Jalan_Berlubang/trainval/normal/jalan-asia-afrika-1.jpg\n",
            "Removed jalan-asia-afrika-1.webp\n",
            "Converted 2327083565.webp to /content/Jalan_Berlubang/trainval/normal/2327083565.jpg\n",
            "Removed 2327083565.webp\n",
            "Converted Road-Safety-jalan-raya-rambu-marka-belok-2.webp to /content/Jalan_Berlubang/trainval/normal/Road-Safety-jalan-raya-rambu-marka-belok-2.jpg\n",
            "Removed Road-Safety-jalan-raya-rambu-marka-belok-2.webp\n",
            "Converted jasa-pengaspalan-rumah-sakit.webp to /content/Jalan_Berlubang/trainval/normal/jasa-pengaspalan-rumah-sakit.jpg\n",
            "Removed jasa-pengaspalan-rumah-sakit.webp\n",
            "Converted 1_sink-hold.webp to /content/Jalan_Berlubang/trainval/potholes/1_sink-hold.jpg\n",
            "Removed 1_sink-hold.webp\n",
            "Converted Jalan-Rusak-3816073329.webp to /content/Jalan_Berlubang/trainval/potholes/Jalan-Rusak-3816073329.jpg\n",
            "Removed Jalan-Rusak-3816073329.webp\n",
            "Converted 070701400_1464343290-IMG-20160522-0087_1_.webp to /content/Jalan_Berlubang/trainval/potholes/070701400_1464343290-IMG-20160522-0087_1_.jpg\n",
            "Removed 070701400_1464343290-IMG-20160522-0087_1_.webp\n"
          ]
        }
      ],
      "source": [
        "\n",
        "def convert_webp_to_jpg(folder_path):\n",
        "    for filename in os.listdir(folder_path):\n",
        "        if filename.endswith(\".webp\"):\n",
        "            # Open the .webp file\n",
        "            webp_file_path = os.path.join(folder_path, filename)\n",
        "            im = Image.open(webp_file_path)\n",
        "\n",
        "            # Save as .jpg\n",
        "            jpg_file_path = os.path.splitext(webp_file_path)[0] + \".jpg\"\n",
        "            im.save(jpg_file_path, \"JPEG\")\n",
        "            print(f\"Converted {filename} to {jpg_file_path}\")\n",
        "\n",
        "            # Remove the original .webp file\n",
        "            os.remove(webp_file_path)\n",
        "            print(f\"Removed {filename}\")\n",
        "\n",
        "# Replace 'folder_path' with the path to your folder containing the .webp files\n",
        "trainval_path = \"/content/Jalan_Berlubang/trainval\"\n",
        "convert_webp_to_jpg(f'{trainval_path}/normal')\n",
        "convert_webp_to_jpg(f'{trainval_path}/potholes')"
      ]
    },
    {
      "cell_type": "code",
      "execution_count": null,
      "metadata": {
        "colab": {
          "base_uri": "https://localhost:8080/"
        },
        "id": "wnuSSkDtMwDj",
        "outputId": "e157a92e-5fa9-41f5-929e-7f33c77a1e69"
      },
      "outputs": [
        {
          "output_type": "stream",
          "name": "stdout",
          "text": [
            "Removed suasana-jalan-di-kota-surabaya-hari-pertama-lebaran--thumbnail-749.txt\n",
            "Removed 97.b6d690f129694c2d824c5979fca7ad33.gif\n"
          ]
        }
      ],
      "source": [
        "\n",
        "def filter_files(folder_path):\n",
        "    for filename in os.listdir(folder_path):\n",
        "        file_path = os.path.join(folder_path, filename)\n",
        "        if os.path.isfile(file_path):\n",
        "            # Check if the file extension is not in the specified list\n",
        "            if not filename.lower().endswith(('.jpg', '.jpeg', '.png')):\n",
        "                # Remove the file\n",
        "                os.remove(file_path)\n",
        "                print(f\"Removed {filename}\")\n",
        "\n",
        "# Replace 'folder_path' with the path to your folder\n",
        "filter_files(f'{trainval_path}/normal')\n",
        "filter_files(f'{trainval_path}/potholes')"
      ]
    },
    {
      "cell_type": "code",
      "execution_count": null,
      "metadata": {
        "id": "XtiB8BOqa6Fv"
      },
      "outputs": [],
      "source": [
        "def train_val_generators(TRAINING_DIR, TESTING_DIR):\n",
        "  datagen = ImageDataGenerator(\n",
        "    rescale=1. / 255,\n",
        "    rotation_range=15,\n",
        "    width_shift_range=0.15,\n",
        "    height_shift_range=0.15,\n",
        "    shear_range=0.15,\n",
        "    zoom_range=0.15,\n",
        "    horizontal_flip=True,\n",
        "    fill_mode='nearest',\n",
        "    validation_split=0.2\n",
        "  )\n",
        "\n",
        "  train_generator = datagen.flow_from_directory(\n",
        "      TRAINING_DIR,\n",
        "      target_size=(224, 224),\n",
        "      batch_size=32,\n",
        "      class_mode='binary',\n",
        "      subset='training'\n",
        "  )\n",
        "\n",
        "  validation_generator = datagen.flow_from_directory(\n",
        "      TRAINING_DIR,\n",
        "      target_size=(224, 224),\n",
        "      batch_size=32,\n",
        "      class_mode='binary',\n",
        "      subset='validation'\n",
        "  )\n",
        "  test_datagen = ImageDataGenerator(\n",
        "    rescale=1. / 255\n",
        "  )\n",
        "  test_generator = test_datagen.flow_from_directory(\n",
        "      TESTING_DIR,\n",
        "      target_size=(224, 224),\n",
        "      batch_size=32,\n",
        "      class_mode='binary',\n",
        "      shuffle=False\n",
        "  )\n",
        "  return train_generator, validation_generator, test_generator"
      ]
    },
    {
      "cell_type": "code",
      "execution_count": null,
      "metadata": {
        "colab": {
          "base_uri": "https://localhost:8080/"
        },
        "id": "ldaMhCgcqbZ2",
        "outputId": "5c171f57-36fc-4e14-d9e2-2cb3cb8b4514"
      },
      "outputs": [
        {
          "output_type": "stream",
          "name": "stdout",
          "text": [
            "Found 1960 images belonging to 2 classes.\n",
            "Found 489 images belonging to 2 classes.\n",
            "Found 50 images belonging to 2 classes.\n"
          ]
        }
      ],
      "source": [
        "train_generator, validation_generator , test_generator = train_val_generators('/content/Jalan_Berlubang/trainval', '/content/Jalan_Berlubang/test')"
      ]
    },
    {
      "cell_type": "code",
      "execution_count": null,
      "metadata": {
        "colab": {
          "base_uri": "https://localhost:8080/"
        },
        "id": "hkTgJe_cFXe1",
        "outputId": "e0cbab5e-0f13-4d31-8661-f0a0044b4b62"
      },
      "outputs": [
        {
          "output_type": "execute_result",
          "data": {
            "text/plain": [
              "(224, 224, 3)"
            ]
          },
          "metadata": {},
          "execution_count": 8
        }
      ],
      "source": [
        "train_generator.image_shape"
      ]
    },
    {
      "cell_type": "code",
      "execution_count": null,
      "metadata": {
        "id": "uqKhHTBxqeR5"
      },
      "outputs": [],
      "source": [
        "\n",
        "def create_model():\n",
        "  base_model = VGG16(weights='imagenet', include_top=False, input_shape=(224, 224, 3))\n",
        "\n",
        "  # Membekukan lapisan-lapisan pada model VGG16 yang sudah dilatih\n",
        "  for layer in base_model.layers:\n",
        "      layer.trainable = False\n",
        "\n",
        "  # Menambahkan lapisan klasifikasi baru di atas model VGG16\n",
        "  model = Sequential(name='Deteksi_Jalan_Berlubang_Renaldy_V3')\n",
        "  model.add(base_model)\n",
        "  model.add(Flatten())\n",
        "  model.add(Dense(192, activation='relu'))\n",
        "  model.add(Dense(1, activation='sigmoid'))  # Lapisan output untuk klasifikasi biner\n",
        "\n",
        "  model.compile(optimizer=Adam(lr=0.001),\n",
        "                loss='binary_crossentropy',\n",
        "                metrics=['accuracy'])\n",
        "\n",
        "  return model"
      ]
    },
    {
      "cell_type": "code",
      "execution_count": null,
      "metadata": {
        "id": "EWbh-PLan82C",
        "colab": {
          "base_uri": "https://localhost:8080/"
        },
        "outputId": "3c04cd01-0218-4513-eddd-6f14d33f1ef2"
      },
      "outputs": [
        {
          "output_type": "stream",
          "name": "stdout",
          "text": [
            "Downloading data from https://storage.googleapis.com/tensorflow/keras-applications/vgg16/vgg16_weights_tf_dim_ordering_tf_kernels_notop.h5\n",
            "58889256/58889256 [==============================] - 0s 0us/step\n"
          ]
        },
        {
          "output_type": "stream",
          "name": "stderr",
          "text": [
            "WARNING:absl:`lr` is deprecated in Keras optimizer, please use `learning_rate` or use the legacy optimizer, e.g.,tf.keras.optimizers.legacy.Adam.\n"
          ]
        }
      ],
      "source": [
        "class CustomCallback(Callback):\n",
        "    def on_epoch_end(self, epoch, logs=None):\n",
        "      if logs.get('val_accuracy') >= 0.95 and logs.get('val_loss') <= 0.05 and logs.get('accuracy') >= 0.95 and logs.get('loss') <= 0.05:\n",
        "        print(\"\\nAkurasi mencapai 95% dan loss kurang dari 5%\")\n",
        "        self.model.stop_training = True\n",
        "early_stopping_callback = EarlyStopping(monitor='val_loss', patience=3, restore_best_weights=True)\n",
        "custom_callback = CustomCallback()\n",
        "model = create_model()\n",
        "model.load_weights('/content/drive/MyDrive/Kumpulan Dataset/Dataset Jalan Berlubang/Deteksi_JalanBerlubang_Renaldy.h5')\n",
        "checkpoint_callback = ModelCheckpoint(\n",
        "    filepath='model_checkpoint_jalanBerlubang_Renaldy_v4.h5',\n",
        "    save_weights_only=True,\n",
        "    save_best_only=True,\n",
        "    monitor='val_loss',\n",
        "    mode='min',\n",
        "    verbose=1\n",
        ")"
      ]
    },
    {
      "cell_type": "code",
      "execution_count": null,
      "metadata": {
        "colab": {
          "base_uri": "https://localhost:8080/"
        },
        "id": "G0qPUwtjI5qM",
        "outputId": "3979773e-edc0-4266-cc3f-5cda809884df"
      },
      "outputs": [
        {
          "output_type": "stream",
          "name": "stdout",
          "text": [
            "Model: \"Deteksi_Jalan_Berlubang_Renaldy_V3\"\n",
            "_________________________________________________________________\n",
            " Layer (type)                Output Shape              Param #   \n",
            "=================================================================\n",
            " vgg16 (Functional)          (None, 7, 7, 512)         14714688  \n",
            "                                                                 \n",
            " flatten (Flatten)           (None, 25088)             0         \n",
            "                                                                 \n",
            " dense (Dense)               (None, 192)               4817088   \n",
            "                                                                 \n",
            " dense_1 (Dense)             (None, 1)                 193       \n",
            "                                                                 \n",
            "=================================================================\n",
            "Total params: 19531969 (74.51 MB)\n",
            "Trainable params: 4817281 (18.38 MB)\n",
            "Non-trainable params: 14714688 (56.13 MB)\n",
            "_________________________________________________________________\n"
          ]
        }
      ],
      "source": [
        "model.summary()"
      ]
    },
    {
      "cell_type": "code",
      "execution_count": null,
      "metadata": {
        "colab": {
          "base_uri": "https://localhost:8080/"
        },
        "id": "f1G1ff4-q4MU",
        "outputId": "37baa31e-5870-4190-e5e3-6e4c9ec0668f"
      },
      "outputs": [
        {
          "output_type": "stream",
          "name": "stdout",
          "text": [
            "Epoch 12/100\n",
            "38/62 [=================>............] - ETA: 19s - loss: 0.0516 - accuracy: 0.9786"
          ]
        },
        {
          "output_type": "stream",
          "name": "stderr",
          "text": [
            "/usr/local/lib/python3.10/dist-packages/PIL/Image.py:996: UserWarning: Palette images with Transparency expressed in bytes should be converted to RGBA images\n",
            "  warnings.warn(\n"
          ]
        },
        {
          "output_type": "stream",
          "name": "stdout",
          "text": [
            "62/62 [==============================] - ETA: 0s - loss: 0.0483 - accuracy: 0.9796\n",
            "Epoch 12: val_loss improved from inf to 0.03662, saving model to model_checkpoint_jalanBerlubang_Renaldy_v4.h5\n",
            "62/62 [==============================] - 68s 1s/step - loss: 0.0483 - accuracy: 0.9796 - val_loss: 0.0366 - val_accuracy: 0.9796\n",
            "Epoch 13/100\n",
            "62/62 [==============================] - ETA: 0s - loss: 0.0516 - accuracy: 0.9842\n",
            "Epoch 13: val_loss improved from 0.03662 to 0.02767, saving model to model_checkpoint_jalanBerlubang_Renaldy_v4.h5\n",
            "62/62 [==============================] - 62s 1s/step - loss: 0.0516 - accuracy: 0.9842 - val_loss: 0.0277 - val_accuracy: 0.9857\n",
            "Epoch 14/100\n",
            "62/62 [==============================] - ETA: 0s - loss: 0.0548 - accuracy: 0.9832\n",
            "Epoch 14: val_loss did not improve from 0.02767\n",
            "62/62 [==============================] - 65s 1s/step - loss: 0.0548 - accuracy: 0.9832 - val_loss: 0.0622 - val_accuracy: 0.9796\n",
            "Epoch 15/100\n",
            "62/62 [==============================] - ETA: 0s - loss: 0.0502 - accuracy: 0.9827\n",
            "Epoch 15: val_loss did not improve from 0.02767\n",
            "62/62 [==============================] - 61s 994ms/step - loss: 0.0502 - accuracy: 0.9827 - val_loss: 0.0461 - val_accuracy: 0.9734\n",
            "Epoch 16/100\n",
            "62/62 [==============================] - ETA: 0s - loss: 0.0571 - accuracy: 0.9816\n",
            "Epoch 16: val_loss did not improve from 0.02767\n",
            "62/62 [==============================] - 61s 994ms/step - loss: 0.0571 - accuracy: 0.9816 - val_loss: 0.0393 - val_accuracy: 0.9816\n"
          ]
        }
      ],
      "source": [
        "#model.load_weights('/content/drive/MyDrive/Kumpulan Dataset/Dataset Jalan Berlubang/model_checkpoint_jalanBerlubang_Renaldy_.h5')\n",
        "# Train the model\n",
        "# Note that this may take some time.\n",
        "history = model.fit(train_generator,\n",
        "                    initial_epoch = 11,\n",
        "                    epochs=100,\n",
        "                    validation_data=validation_generator,\n",
        "                    callbacks=[early_stopping_callback,checkpoint_callback],\n",
        "                    verbose = 1)"
      ]
    },
    {
      "cell_type": "code",
      "execution_count": null,
      "metadata": {
        "colab": {
          "base_uri": "https://localhost:8080/",
          "height": 17
        },
        "id": "BmMdhOq3dtye",
        "outputId": "2562f85f-0925-432f-f4fa-08e6483d275c"
      },
      "outputs": [
        {
          "output_type": "display_data",
          "data": {
            "text/plain": [
              "<IPython.core.display.Javascript object>"
            ],
            "application/javascript": [
              "\n",
              "    async function download(id, filename, size) {\n",
              "      if (!google.colab.kernel.accessAllowed) {\n",
              "        return;\n",
              "      }\n",
              "      const div = document.createElement('div');\n",
              "      const label = document.createElement('label');\n",
              "      label.textContent = `Downloading \"${filename}\": `;\n",
              "      div.appendChild(label);\n",
              "      const progress = document.createElement('progress');\n",
              "      progress.max = size;\n",
              "      div.appendChild(progress);\n",
              "      document.body.appendChild(div);\n",
              "\n",
              "      const buffers = [];\n",
              "      let downloaded = 0;\n",
              "\n",
              "      const channel = await google.colab.kernel.comms.open(id);\n",
              "      // Send a message to notify the kernel that we're ready.\n",
              "      channel.send({})\n",
              "\n",
              "      for await (const message of channel.messages) {\n",
              "        // Send a message to notify the kernel that we're ready.\n",
              "        channel.send({})\n",
              "        if (message.buffers) {\n",
              "          for (const buffer of message.buffers) {\n",
              "            buffers.push(buffer);\n",
              "            downloaded += buffer.byteLength;\n",
              "            progress.value = downloaded;\n",
              "          }\n",
              "        }\n",
              "      }\n",
              "      const blob = new Blob(buffers, {type: 'application/binary'});\n",
              "      const a = document.createElement('a');\n",
              "      a.href = window.URL.createObjectURL(blob);\n",
              "      a.download = filename;\n",
              "      div.appendChild(a);\n",
              "      a.click();\n",
              "      div.remove();\n",
              "    }\n",
              "  "
            ]
          },
          "metadata": {}
        },
        {
          "output_type": "display_data",
          "data": {
            "text/plain": [
              "<IPython.core.display.Javascript object>"
            ],
            "application/javascript": [
              "download(\"download_51f0378e-0422-4ae7-9d79-11c99fe1db3a\", \"model_checkpoint_jalanBerlubang_Renaldy_v4.h5\", 78164760)"
            ]
          },
          "metadata": {}
        }
      ],
      "source": [
        "files.download('model_checkpoint_jalanBerlubang_Renaldy_v4.h5')"
      ]
    },
    {
      "cell_type": "code",
      "execution_count": null,
      "metadata": {
        "colab": {
          "base_uri": "https://localhost:8080/",
          "height": 883
        },
        "id": "oBnRKudnq6VV",
        "outputId": "74bc576c-f902-43a4-94f0-ee5fa6adcc05"
      },
      "outputs": [
        {
          "output_type": "display_data",
          "data": {
            "text/plain": [
              "<Figure size 640x480 with 1 Axes>"
            ],
            "image/png": "[encoded data removed]"
          },
          "metadata": {}
        },
        {
          "output_type": "stream",
          "name": "stdout",
          "text": [
            "\n"
          ]
        },
        {
          "output_type": "display_data",
          "data": {
            "text/plain": [
              "<Figure size 640x480 with 1 Axes>"
            ],
            "image/png": "[encoded data removed]"
          },
          "metadata": {}
        }
      ],
      "source": [
        "#-----------------------------------------------------------\n",
        "# Retrieve a list of list results on training and test data\n",
        "# sets for each training epoch\n",
        "#-----------------------------------------------------------\n",
        "acc=history.history['accuracy']\n",
        "val_acc=history.history['val_accuracy']\n",
        "loss=history.history['loss']\n",
        "val_loss=history.history['val_loss']\n",
        "\n",
        "epochs=range(len(acc)) # Get number of epochs\n",
        "\n",
        "#------------------------------------------------\n",
        "# Plot training and validation accuracy per epoch\n",
        "#------------------------------------------------\n",
        "plt.plot(epochs, acc, 'r', \"Training Accuracy\")\n",
        "plt.plot(epochs, val_acc, 'b', \"Validation Accuracy\")\n",
        "plt.title('Training and validation accuracy')\n",
        "plt.show()\n",
        "print(\"\")\n",
        "\n",
        "#------------------------------------------------\n",
        "# Plot training and validation loss per epoch\n",
        "#------------------------------------------------\n",
        "plt.plot(epochs, loss, 'r', \"Training Loss\")\n",
        "plt.plot(epochs, val_loss, 'b', \"Validation Loss\")\n",
        "plt.show()"
      ]
    },
    {
      "cell_type": "code",
      "execution_count": null,
      "metadata": {
        "colab": {
          "base_uri": "https://localhost:8080/"
        },
        "id": "nRDHoCk2AIlG",
        "outputId": "06ff084c-7453-45e2-8ec3-74cd57635154"
      },
      "outputs": [
        {
          "output_type": "stream",
          "name": "stderr",
          "text": [
            "/usr/local/lib/python3.10/dist-packages/keras/src/engine/training.py:3103: UserWarning: You are saving your model as an HDF5 file via `model.save()`. This file format is considered legacy. We recommend using instead the native Keras format, e.g. `model.save('my_model.keras')`.\n",
            "  saving_api.save_model(\n"
          ]
        }
      ],
      "source": [
        "model.save(\"Deteksi_JalanBerlubang_Renaldy_V4.h5\")"
      ]
    },
    {
      "cell_type": "code",
      "execution_count": null,
      "metadata": {
        "colab": {
          "background_save": true,
          "base_uri": "https://localhost:8080/",
          "height": 56
        },
        "id": "HEXIOxlPHQuy",
        "outputId": "6accb13e-6d76-4b0e-8680-b802d3587d64"
      },
      "outputs": [
        {
          "output_type": "stream",
          "name": "stdout",
          "text": [
            "SIlahkan upload gambar yang akan di prediksi\n"
          ]
        },
        {
          "output_type": "display_data",
          "data": {
            "text/plain": [
              "<IPython.core.display.HTML object>"
            ],
            "text/html": [
              "\n",
              "     <input type=\"file\" id=\"files-88d1b871-653f-4870-9528-f47d27948253\" name=\"files[]\" multiple disabled\n",
              "        style=\"border:none\" />\n",
              "     <output id=\"result-88d1b871-653f-4870-9528-f47d27948253\">\n",
              "      Upload widget is only available when the cell has been executed in the\n",
              "      current browser session. Please rerun this cell to enable.\n",
              "      </output>\n",
              "      <script>// Copyright 2017 Google LLC\n",
              "//\n",
              "// Licensed under the Apache License, Version 2.0 (the \"License\");\n",
              "// you may not use this file except in compliance with the License.\n",
              "// You may obtain a copy of the License at\n",
              "//\n",
              "//      http://www.apache.org/licenses/LICENSE-2.0\n",
              "//\n",
              "// Unless required by applicable law or agreed to in writing, software\n",
              "// distributed under the License is distributed on an \"AS IS\" BASIS,\n",
              "// WITHOUT WARRANTIES OR CONDITIONS OF ANY KIND, either express or implied.\n",
              "// See the License for the specific language governing permissions and\n",
              "// limitations under the License.\n",
              "\n",
              "/**\n",
              " * @fileoverview Helpers for google.colab Python module.\n",
              " */\n",
              "(function(scope) {\n",
              "function span(text, styleAttributes = {}) {\n",
              "  const element = document.createElement('span');\n",
              "  element.textContent = text;\n",
              "  for (const key of Object.keys(styleAttributes)) {\n",
              "    element.style[key] = styleAttributes[key];\n",
              "  }\n",
              "  return element;\n",
              "}\n",
              "\n",
              "// Max number of bytes which will be uploaded at a time.\n",
              "const MAX_PAYLOAD_SIZE = 100 * 1024;\n",
              "\n",
              "function _uploadFiles(inputId, outputId) {\n",
              "  const steps = uploadFilesStep(inputId, outputId);\n",
              "  const outputElement = document.getElementById(outputId);\n",
              "  // Cache steps on the outputElement to make it available for the next call\n",
              "  // to uploadFilesContinue from Python.\n",
              "  outputElement.steps = steps;\n",
              "\n",
              "  return _uploadFilesContinue(outputId);\n",
              "}\n",
              "\n",
              "// This is roughly an async generator (not supported in the browser yet),\n",
              "// where there are multiple asynchronous steps and the Python side is going\n",
              "// to poll for completion of each step.\n",
              "// This uses a Promise to block the python side on completion of each step,\n",
              "// then passes the result of the previous step as the input to the next step.\n",
              "function _uploadFilesContinue(outputId) {\n",
              "  const outputElement = document.getElementById(outputId);\n",
              "  const steps = outputElement.steps;\n",
              "\n",
              "  const next = steps.next(outputElement.lastPromiseValue);\n",
              "  return Promise.resolve(next.value.promise).then((value) => {\n",
              "    // Cache the last promise value to make it available to the next\n",
              "    // step of the generator.\n",
              "    outputElement.lastPromiseValue = value;\n",
              "    return next.value.response;\n",
              "  });\n",
              "}\n",
              "\n",
              "/**\n",
              " * Generator function which is called between each async step of the upload\n",
              " * process.\n",
              " * @param {string} inputId Element ID of the input file picker element.\n",
              " * @param {string} outputId Element ID of the output display.\n",
              " * @return {!Iterable<!Object>} Iterable of next steps.\n",
              " */\n",
              "function* uploadFilesStep(inputId, outputId) {\n",
              "  const inputElement = document.getElementById(inputId);\n",
              "  inputElement.disabled = false;\n",
              "\n",
              "  const outputElement = document.getElementById(outputId);\n",
              "  outputElement.innerHTML = '';\n",
              "\n",
              "  const pickedPromise = new Promise((resolve) => {\n",
              "    inputElement.addEventListener('change', (e) => {\n",
              "      resolve(e.target.files);\n",
              "    });\n",
              "  });\n",
              "\n",
              "  const cancel = document.createElement('button');\n",
              "  inputElement.parentElement.appendChild(cancel);\n",
              "  cancel.textContent = 'Cancel upload';\n",
              "  const cancelPromise = new Promise((resolve) => {\n",
              "    cancel.onclick = () => {\n",
              "      resolve(null);\n",
              "    };\n",
              "  });\n",
              "\n",
              "  // Wait for the user to pick the files.\n",
              "  const files = yield {\n",
              "    promise: Promise.race([pickedPromise, cancelPromise]),\n",
              "    response: {\n",
              "      action: 'starting',\n",
              "    }\n",
              "  };\n",
              "\n",
              "  cancel.remove();\n",
              "\n",
              "  // Disable the input element since further picks are not allowed.\n",
              "  inputElement.disabled = true;\n",
              "\n",
              "  if (!files) {\n",
              "    return {\n",
              "      response: {\n",
              "        action: 'complete',\n",
              "      }\n",
              "    };\n",
              "  }\n",
              "\n",
              "  for (const file of files) {\n",
              "    const li = document.createElement('li');\n",
              "    li.append(span(file.name, {fontWeight: 'bold'}));\n",
              "    li.append(span(\n",
              "        `(${file.type || 'n/a'}) - ${file.size} bytes, ` +\n",
              "        `last modified: ${\n",
              "            file.lastModifiedDate ? file.lastModifiedDate.toLocaleDateString() :\n",
              "                                    'n/a'} - `));\n",
              "    const percent = span('0% done');\n",
              "    li.appendChild(percent);\n",
              "\n",
              "    outputElement.appendChild(li);\n",
              "\n",
              "    const fileDataPromise = new Promise((resolve) => {\n",
              "      const reader = new FileReader();\n",
              "      reader.onload = (e) => {\n",
              "        resolve(e.target.result);\n",
              "      };\n",
              "      reader.readAsArrayBuffer(file);\n",
              "    });\n",
              "    // Wait for the data to be ready.\n",
              "    let fileData = yield {\n",
              "      promise: fileDataPromise,\n",
              "      response: {\n",
              "        action: 'continue',\n",
              "      }\n",
              "    };\n",
              "\n",
              "    // Use a chunked sending to avoid message size limits. See b/62115660.\n",
              "    let position = 0;\n",
              "    do {\n",
              "      const length = Math.min(fileData.byteLength - position, MAX_PAYLOAD_SIZE);\n",
              "      const chunk = new Uint8Array(fileData, position, length);\n",
              "      position += length;\n",
              "\n",
              "      const base64 = btoa(String.fromCharCode.apply(null, chunk));\n",
              "      yield {\n",
              "        response: {\n",
              "          action: 'append',\n",
              "          file: file.name,\n",
              "          data: base64,\n",
              "        },\n",
              "      };\n",
              "\n",
              "      let percentDone = fileData.byteLength === 0 ?\n",
              "          100 :\n",
              "          Math.round((position / fileData.byteLength) * 100);\n",
              "      percent.textContent = `${percentDone}% done`;\n",
              "\n",
              "    } while (position < fileData.byteLength);\n",
              "  }\n",
              "\n",
              "  // All done.\n",
              "  yield {\n",
              "    response: {\n",
              "      action: 'complete',\n",
              "    }\n",
              "  };\n",
              "}\n",
              "\n",
              "scope.google = scope.google || {};\n",
              "scope.google.colab = scope.google.colab || {};\n",
              "scope.google.colab._files = {\n",
              "  _uploadFiles,\n",
              "  _uploadFilesContinue,\n",
              "};\n",
              "})(self);\n",
              "</script> "
            ]
          },
          "metadata": {}
        }
      ],
      "source": [
        "\n",
        "print(\"SIlahkan upload gambar yang akan di prediksi\")\n",
        "# Upload the image file\n",
        "uploaded = files.upload()\n",
        "\n",
        "# Get the file name\n",
        "file_name = list(uploaded.keys())[0]\n",
        "# Load the uploaded image\n",
        "img = image.load_img(file_name, target_size=(224,224))\n",
        "img_array = img_to_array(img)\n",
        "img_array = np.expand_dims(img_array, axis=0)\n",
        "\n",
        "# Preprocess the image (similar to how the training data was preprocessed)\n",
        "img_array = img_array / 255.0  # Normalize pixel values to be between 0 and 1\n",
        "\n",
        "predictions = model.predict(img_array)\n",
        "predicted_class = np.argmax(predictions)"
      ]
    },
    {
      "cell_type": "code",
      "execution_count": null,
      "metadata": {
        "colab": {
          "background_save": true
        },
        "id": "YDa0KMf2H5cy"
      },
      "outputs": [],
      "source": [
        "hasil = 'Jalan Normal' if predictions <= 0.5 else \"Jalan Berlubang/Rusak\"\n",
        "print(f'Hasil prediksi model =', hasil)"
      ]
    },
    {
      "cell_type": "code",
      "execution_count": null,
      "metadata": {
        "colab": {
          "base_uri": "https://localhost:8080/",
          "height": 34
        },
        "id": "CDv2QyhHREiQ",
        "outputId": "f39fc916-99bc-42cd-d4df-19e2613fbbde"
      },
      "outputs": [
        {
          "output_type": "display_data",
          "data": {
            "text/plain": [
              "<IPython.core.display.Javascript object>"
            ],
            "application/javascript": [
              "\n",
              "    async function download(id, filename, size) {\n",
              "      if (!google.colab.kernel.accessAllowed) {\n",
              "        return;\n",
              "      }\n",
              "      const div = document.createElement('div');\n",
              "      const label = document.createElement('label');\n",
              "      label.textContent = `Downloading \"${filename}\": `;\n",
              "      div.appendChild(label);\n",
              "      const progress = document.createElement('progress');\n",
              "      progress.max = size;\n",
              "      div.appendChild(progress);\n",
              "      document.body.appendChild(div);\n",
              "\n",
              "      const buffers = [];\n",
              "      let downloaded = 0;\n",
              "\n",
              "      const channel = await google.colab.kernel.comms.open(id);\n",
              "      // Send a message to notify the kernel that we're ready.\n",
              "      channel.send({})\n",
              "\n",
              "      for await (const message of channel.messages) {\n",
              "        // Send a message to notify the kernel that we're ready.\n",
              "        channel.send({})\n",
              "        if (message.buffers) {\n",
              "          for (const buffer of message.buffers) {\n",
              "            buffers.push(buffer);\n",
              "            downloaded += buffer.byteLength;\n",
              "            progress.value = downloaded;\n",
              "          }\n",
              "        }\n",
              "      }\n",
              "      const blob = new Blob(buffers, {type: 'application/binary'});\n",
              "      const a = document.createElement('a');\n",
              "      a.href = window.URL.createObjectURL(blob);\n",
              "      a.download = filename;\n",
              "      div.appendChild(a);\n",
              "      a.click();\n",
              "      div.remove();\n",
              "    }\n",
              "  "
            ]
          },
          "metadata": {}
        },
        {
          "output_type": "display_data",
          "data": {
            "text/plain": [
              "<IPython.core.display.Javascript object>"
            ],
            "application/javascript": [
              "download(\"download_e3dd1ee8-31f0-426a-a008-6e0af8571a4d\", \"history.json\", 466)"
            ]
          },
          "metadata": {}
        },
        {
          "output_type": "display_data",
          "data": {
            "text/plain": [
              "<IPython.core.display.Javascript object>"
            ],
            "application/javascript": [
              "\n",
              "    async function download(id, filename, size) {\n",
              "      if (!google.colab.kernel.accessAllowed) {\n",
              "        return;\n",
              "      }\n",
              "      const div = document.createElement('div');\n",
              "      const label = document.createElement('label');\n",
              "      label.textContent = `Downloading \"${filename}\": `;\n",
              "      div.appendChild(label);\n",
              "      const progress = document.createElement('progress');\n",
              "      progress.max = size;\n",
              "      div.appendChild(progress);\n",
              "      document.body.appendChild(div);\n",
              "\n",
              "      const buffers = [];\n",
              "      let downloaded = 0;\n",
              "\n",
              "      const channel = await google.colab.kernel.comms.open(id);\n",
              "      // Send a message to notify the kernel that we're ready.\n",
              "      channel.send({})\n",
              "\n",
              "      for await (const message of channel.messages) {\n",
              "        // Send a message to notify the kernel that we're ready.\n",
              "        channel.send({})\n",
              "        if (message.buffers) {\n",
              "          for (const buffer of message.buffers) {\n",
              "            buffers.push(buffer);\n",
              "            downloaded += buffer.byteLength;\n",
              "            progress.value = downloaded;\n",
              "          }\n",
              "        }\n",
              "      }\n",
              "      const blob = new Blob(buffers, {type: 'application/binary'});\n",
              "      const a = document.createElement('a');\n",
              "      a.href = window.URL.createObjectURL(blob);\n",
              "      a.download = filename;\n",
              "      div.appendChild(a);\n",
              "      a.click();\n",
              "      div.remove();\n",
              "    }\n",
              "  "
            ]
          },
          "metadata": {}
        },
        {
          "output_type": "display_data",
          "data": {
            "text/plain": [
              "<IPython.core.display.Javascript object>"
            ],
            "application/javascript": [
              "download(\"download_56d6f49c-b1cc-4a09-951c-794dfa7fb24f\", \"Deteksi_JalanBerlubang_Renaldy_V4.h5\", 116741288)"
            ]
          },
          "metadata": {}
        }
      ],
      "source": [
        "history_json = json.dumps(history.history)\n",
        "\n",
        "# Save as a JSON file\n",
        "with open('history.json', 'w') as json_file:\n",
        "    json_file.write(history_json)\n",
        "files.download('history.json')  # Replace 'history.json' with your file name\n",
        "files.download('Deteksi_JalanBerlubang_Renaldy_V4.h5')"
      ]
    },
    {
      "cell_type": "code",
      "execution_count": null,
      "metadata": {
        "colab": {
          "background_save": true
        },
        "id": "djdt1bM8SW0t"
      },
      "outputs": [],
      "source": [
        "model.evaluate(test_generator)"
      ]
    },
    {
      "cell_type": "code",
      "execution_count": null,
      "metadata": {
        "colab": {
          "background_save": true
        },
        "id": "cesvDom-ShsG"
      },
      "outputs": [],
      "source": [
        "from sklearn.metrics import confusion_matrix\n",
        "import seaborn as sns\n",
        "# Retrieve true labels from the validation generator\n",
        "true_labels = test_generator.classes\n",
        "\n",
        "# Generate predictions using the model and validation generator\n",
        "predictions = model.predict(test_generator)\n",
        "\n",
        "# Convert predictions to binary classes (0 or 1)\n",
        "predicted_labels = np.where(predictions <= 0.5, 0, 1)\n",
        "\n",
        "# Create the confusion matrix\n",
        "cm = confusion_matrix(true_labels, predicted_labels)\n",
        "\n",
        "# Create a heatmap of the confusion matrix\n",
        "plt.figure(figsize=(8, 6))\n",
        "sns.heatmap(cm, annot=True, cmap='coolwarm', fmt='g', xticklabels=['Berlubang','Normal'], yticklabels=['Normal', 'Berlubang'])\n",
        "plt.xlabel('Predicted')\n",
        "plt.ylabel('True')\n",
        "plt.title('Confusion Matrix')\n",
        "plt.show()\n"
      ]
    }
  ],
  "metadata": {
    "colab": {
      "provenance": [],
      "gpuType": "T4"
    },
    "kernelspec": {
      "display_name": "Python 3",
      "name": "python3"
    },
    "language_info": {
      "name": "python"
    },
    "accelerator": "GPU"
  },
  "nbformat": 4,
  "nbformat_minor": 0
}